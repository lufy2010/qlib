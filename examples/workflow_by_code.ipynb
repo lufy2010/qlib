{
 "cells": [
  {
   "cell_type": "code",
   "execution_count": 1,
   "metadata": {},
   "outputs": [],
   "source": [
    "import qlib\n",
    "import pandas as pd\n",
    "from qlib.constant import REG_CN\n",
    "from qlib.utils import init_instance_by_config\n",
    "from qlib.workflow import R\n",
    "from qlib.workflow.record_temp import SignalRecord, PortAnaRecord\n",
    "from qlib.utils import flatten_dict\n",
    "import numpy as np\n",
    "import alphalens\n",
    "from typing import Tuple"
   ]
  },
  {
   "cell_type": "code",
   "execution_count": 2,
   "metadata": {
    "tags": []
   },
   "outputs": [
    {
     "name": "stderr",
     "output_type": "stream",
     "text": [
      "[70971:MainThread](2023-02-28 21:41:31,180) INFO - qlib.Initialization - [config.py:416] - default_conf: client.\n",
      "[70971:MainThread](2023-02-28 21:41:31,183) INFO - qlib.Initialization - [__init__.py:74] - qlib successfully initialized based on client settings.\n",
      "[70971:MainThread](2023-02-28 21:41:31,184) INFO - qlib.Initialization - [__init__.py:76] - data_path={'__DEFAULT_FREQ': PosixPath('/Users/jersonliao/.qlib/qlib_data/cn_data')}\n"
     ]
    }
   ],
   "source": [
    "# qlib init\n",
    "provider_uri = \"~/.qlib/qlib_data/cn_data\"  # target_dir\n",
    "qlib.init(provider_uri=provider_uri, region=REG_CN)"
   ]
  },
  {
   "attachments": {},
   "cell_type": "markdown",
   "metadata": {},
   "source": [
    "### define init dataset function"
   ]
  },
  {
   "cell_type": "code",
   "execution_count": 3,
   "metadata": {},
   "outputs": [],
   "source": [
    "def init_dataset(market, label: Tuple[list, list], segments):\n",
    "    data_handler_config = {\n",
    "        \"start_time\": segments[\"train\"][0],\n",
    "        \"end_time\": segments[\"test\"][0],\n",
    "        \"fit_start_time\": segments[\"train\"][0],\n",
    "        \"fit_end_time\": segments[\"train\"][1],\n",
    "        \"instruments\": market,\n",
    "        \"label\": label,\n",
    "        \"feature\": {\n",
    "            'kbar': {},  # whether to use some hard-code kbar features\n",
    "            \"price\": {\n",
    "                \"windows\": [0],\n",
    "                \"feature\": [\"OPEN\", \"HIGH\", \"LOW\", \"VWAP\"],\n",
    "            },\n",
    "            'volume': {  # whether to use raw volume features\n",
    "                'windows': [0, 1, 2],  # use volume at n days ago\n",
    "            },\n",
    "            'rolling': {  # whether to use rolling operator based features\n",
    "                'windows': [5, 10, 20, 30, 60, 90, 120, 150],  # rolling windows size\n",
    "            }\n",
    "        }\n",
    "    }\n",
    "    dataset_config = {\n",
    "        \"class\": \"DatasetH\",\n",
    "        \"module_path\": \"qlib.data.dataset\",\n",
    "        \"kwargs\": {\n",
    "            \"handler\": {\n",
    "                \"class\": \"Alpha158\",\n",
    "                \"module_path\": \"qlib.contrib.data.handler\",\n",
    "                \"kwargs\": data_handler_config,\n",
    "            },\n",
    "            \"segments\": segments,\n",
    "        }\n",
    "    }\n",
    "    dataset = init_instance_by_config(dataset_config)\n",
    "    return dataset"
   ]
  },
  {
   "attachments": {},
   "cell_type": "markdown",
   "metadata": {},
   "source": [
    "### define init and train model function"
   ]
  },
  {
   "cell_type": "code",
   "execution_count": 4,
   "metadata": {
    "tags": []
   },
   "outputs": [],
   "source": [
    "def init_model_and_train(dataset,label_column, experiment_name: str, model_type: str):\n",
    "    lgb_model = {\n",
    "        \"class\": \"LGBModel\",\n",
    "        \"module_path\": \"qlib.contrib.model.gbdt\",\n",
    "        \"kwargs\": {\n",
    "            \"loss\": \"mse\",\n",
    "            \"colsample_bytree\": 0.8879,\n",
    "            \"learning_rate\": 0.0421,\n",
    "            \"subsample\": 0.8789,\n",
    "            \"lambda_l1\": 205.6999,\n",
    "            \"lambda_l2\": 580.9768,\n",
    "            \"max_depth\": 8,\n",
    "            \"num_leaves\": 210,\n",
    "            \"num_threads\": 20,\n",
    "            \"label_column\":label_column,\n",
    "        },\n",
    "    }\n",
    "    densemble_model = {\n",
    "        \"class\": \"DEnsembleModel\",\n",
    "        \"module_path\": \"qlib.contrib.model.double_ensemble\",\n",
    "        \"kwargs\": {\n",
    "            \"base_model\": \"gbm\",\n",
    "            \"loss\": \"mse\",\n",
    "            \"num_models\": 3,\n",
    "            \"enable_sr\": True,\n",
    "            \"enable_fs\": True,\n",
    "            \"alpha1\": 1,\n",
    "            \"alpha2\": 1,\n",
    "            \"bins_sr\": 10,\n",
    "            \"bins_fs\": 5,\n",
    "            \"decay\": 0.5,\n",
    "            \"sample_ratios\": [0.8, 0.7, 0.6, 0.5, 0.4],\n",
    "            \"sub_weights\": [1, 1, 1],\n",
    "            \"epochs\": 28,\n",
    "            \"colsample_bytree\": 0.8879,\n",
    "            \"learning_rate\": 0.2,\n",
    "            \"subsample\": 0.8789,\n",
    "            \"lambda_l1\": 205.6999,\n",
    "            \"lambda_l2\": 580.9768,\n",
    "            \"max_depth\": 8,\n",
    "            \"num_leaves\": 210,\n",
    "            \"num_threads\": 20,\n",
    "            \"verbosity\": -1\n",
    "        }\n",
    "    }\n",
    "    # model initiaiton\n",
    "    model_config = lgb_model if model_type==\"lgb\" else densemble_model\n",
    "    model = init_instance_by_config(model_config)\n",
    "\n",
    "    # start exp to train model\n",
    "    with R.start(experiment_name=experiment_name):\n",
    "        R.log_params(**flatten_dict({\"model\":model_config}))\n",
    "        model.fit(dataset)\n",
    "        R.save_objects(trained_model=model)\n",
    "        rid = R.get_recorder().id\n",
    "    return model, rid\n"
   ]
  },
  {
   "attachments": {},
   "cell_type": "markdown",
   "metadata": {},
   "source": [
    "### define prediction, backtest & analysis function"
   ]
  },
  {
   "cell_type": "code",
   "execution_count": 5,
   "metadata": {
    "tags": []
   },
   "outputs": [],
   "source": [
    "def port_analysis(experiment_name, benchmark, dataset, model, topk, n_drop, hold_thresh, start_date, end_date):\n",
    "    port_analysis_config = {\n",
    "        \"executor\": {\n",
    "            \"class\": \"SimulatorExecutor\",\n",
    "            \"module_path\": \"qlib.backtest.executor\",\n",
    "            \"kwargs\": {\n",
    "                \"time_per_step\": \"day\",\n",
    "                \"generate_portfolio_metrics\": True,\n",
    "            },\n",
    "        },\n",
    "        \"strategy\": {\n",
    "            \"class\": \"TopkDropoutStrategy\",\n",
    "            \"module_path\": \"qlib.contrib.strategy.signal_strategy\",\n",
    "            \"kwargs\": {\n",
    "                \"model\": model,\n",
    "                \"dataset\": dataset,\n",
    "                \"topk\": topk,\n",
    "                \"n_drop\": n_drop,\n",
    "                \"hold_thresh\": hold_thresh,\n",
    "            },\n",
    "        },\n",
    "        \"backtest\": {\n",
    "            \"start_time\": start_date,\n",
    "            \"end_time\": end_date,\n",
    "            \"account\": 100000000,\n",
    "            \"benchmark\": benchmark,\n",
    "            \"exchange_kwargs\": {\n",
    "                \"freq\": \"day\",\n",
    "                \"limit_threshold\": 0.095,\n",
    "                \"deal_price\": \"close\",\n",
    "                \"open_cost\": 0.0005,\n",
    "                \"close_cost\": 0.0015,\n",
    "                \"min_cost\": 5,\n",
    "            },\n",
    "        },\n",
    "    }\n",
    "\n",
    "    # backtest and analysis\n",
    "    with R.start(experiment_name=experiment_name):\n",
    "        # prediction\n",
    "        recorder = R.get_recorder()\n",
    "        sr = SignalRecord(model, dataset, recorder)\n",
    "        sr.generate()\n",
    "        # backtest & analysis\n",
    "        par = PortAnaRecord(recorder, port_analysis_config, \"day\")\n",
    "        par.generate()\n",
    "    return recorder.id"
   ]
  },
  {
   "attachments": {},
   "cell_type": "markdown",
   "metadata": {},
   "source": [
    "### prepare dataset"
   ]
  },
  {
   "cell_type": "code",
   "execution_count": 6,
   "metadata": {},
   "outputs": [
    {
     "name": "stderr",
     "output_type": "stream",
     "text": [
      "[70971:MainThread](2023-02-28 21:42:09,756) INFO - qlib.timer - [log.py:128] - Time cost: 28.717s | Loading data Done\n",
      "[70971:MainThread](2023-02-28 21:42:10,322) INFO - qlib.timer - [log.py:128] - Time cost: 0.230s | DropnaLabel Done\n",
      "/Users/jersonliao/qlib/qlib/data/dataset/processor.py:322: SettingWithCopyWarning: \n",
      "A value is trying to be set on a copy of a slice from a DataFrame.\n",
      "Try using .loc[row_indexer,col_indexer] = value instead\n",
      "\n",
      "See the caveats in the documentation: https://pandas.pydata.org/pandas-docs/stable/user_guide/indexing.html#returning-a-view-versus-a-copy\n",
      "  df[cols] = df[cols].groupby(\"datetime\", group_keys=False).apply(self.zscore_func)\n",
      "[70971:MainThread](2023-02-28 21:42:12,535) INFO - qlib.timer - [log.py:128] - Time cost: 2.213s | CSZScoreNorm Done\n",
      "[70971:MainThread](2023-02-28 21:42:12,548) INFO - qlib.timer - [log.py:128] - Time cost: 2.791s | fit & process data Done\n",
      "[70971:MainThread](2023-02-28 21:42:12,548) INFO - qlib.timer - [log.py:128] - Time cost: 31.509s | Init data Done\n"
     ]
    }
   ],
   "source": [
    "segments = {\n",
    "    \"train\": (\"2008-01-01\", \"2018-12-31\"),\n",
    "    \"valid\": (\"2019-01-01\", \"2020-12-31\"),\n",
    "    \"test\": (\"2021-01-01\", \"2022-12-31\"),\n",
    "}\n",
    "label = ([\n",
    "    f\"Ref($close, -2)/Ref($close, -1) - 1\", f\"Ref($close, -10)/Ref($close, -1) - 1\",\n",
    "    f\"Ref($close, -30)/Ref($close, -1) - 1\", f\"Ref($close, -60)/Ref($close, -1) - 1\"\n",
    "], [\"LABEL2\", \"LABEL10\", \"LABE30\", \"LABEL60\"])\n",
    "dataset = init_dataset(\"csi300\", label, segments)"
   ]
  },
  {
   "cell_type": "code",
   "execution_count": 7,
   "metadata": {},
   "outputs": [
    {
     "name": "stderr",
     "output_type": "stream",
     "text": [
      "[70971:MainThread](2023-02-28 21:45:54,200) INFO - qlib.workflow - [exp.py:258] - Experiment 5 starts running ...\n",
      "[70971:MainThread](2023-02-28 21:45:54,257) INFO - qlib.workflow - [recorder.py:341] - Recorder 4f119f0d68834cd4b1cfe594455ff72b starts running under Experiment 5 ...\n"
     ]
    },
    {
     "name": "stdout",
     "output_type": "stream",
     "text": [
      "Training until validation scores don't improve for 50 rounds\n",
      "[20]\ttrain's l2: 0.990748\tvalid's l2: 0.995745\n",
      "[40]\ttrain's l2: 0.987355\tvalid's l2: 0.995734\n",
      "[60]\ttrain's l2: 0.984981\tvalid's l2: 0.995834\n"
     ]
    },
    {
     "name": "stderr",
     "output_type": "stream",
     "text": [
      "[70971:MainThread](2023-02-28 21:46:06,568) INFO - qlib.timer - [log.py:128] - Time cost: 0.053s | waiting `async_log` Done\n",
      "[70971:MainThread](2023-02-28 21:46:06,571) INFO - qlib.workflow - [exp.py:258] - Experiment 1 starts running ...\n",
      "[70971:MainThread](2023-02-28 21:46:06,576) INFO - qlib.workflow - [recorder.py:341] - Recorder 6b8664ed4c4747a0b7f5fbb3a42e21f2 starts running under Experiment 1 ...\n"
     ]
    },
    {
     "name": "stdout",
     "output_type": "stream",
     "text": [
      "Early stopping, best iteration is:\n",
      "[26]\ttrain's l2: 0.989592\tvalid's l2: 0.995679\n"
     ]
    },
    {
     "name": "stderr",
     "output_type": "stream",
     "text": [
      "[70971:MainThread](2023-02-28 21:46:06,857) INFO - qlib.workflow - [record_temp.py:196] - Signal record 'pred.pkl' has been saved as the artifact of the Experiment 1\n",
      "[70971:MainThread](2023-02-28 21:46:06,869) INFO - qlib.backtest caller - [__init__.py:93] - Create new exchange\n"
     ]
    },
    {
     "name": "stdout",
     "output_type": "stream",
     "text": [
      "'The following are prediction results of the LGBModel model.'\n",
      "Empty DataFrame\n",
      "Columns: [score]\n",
      "Index: []\n"
     ]
    },
    {
     "name": "stderr",
     "output_type": "stream",
     "text": [
      "[70971:MainThread](2023-02-28 21:46:13,951) WARNING - qlib.online operator - [exchange.py:219] - $close field data contains nan.\n",
      "[70971:MainThread](2023-02-28 21:46:13,952) WARNING - qlib.online operator - [exchange.py:219] - $close field data contains nan.\n",
      "[70971:MainThread](2023-02-28 21:46:15,379) WARNING - qlib.data - [data.py:666] - load calendar error: freq=day, future=True; return current calendar!\n",
      "[70971:MainThread](2023-02-28 21:46:15,379) WARNING - qlib.data - [data.py:669] - You can get future calendar by referring to the following document: https://github.com/microsoft/qlib/blob/main/scripts/data_collector/contrib/README.md\n",
      "[70971:MainThread](2023-02-28 21:46:15,388) WARNING - qlib.BaseExecutor - [executor.py:121] - `common_infra` is not set for <qlib.backtest.executor.SimulatorExecutor object at 0x1501d14f0>\n"
     ]
    },
    {
     "data": {
      "application/vnd.jupyter.widget-view+json": {
       "model_id": "54cce9e9a29245ffb2209452bc88630c",
       "version_major": 2,
       "version_minor": 0
      },
      "text/plain": [
       "backtest loop:   0%|          | 0/485 [00:00<?, ?it/s]"
      ]
     },
     "metadata": {},
     "output_type": "display_data"
    },
    {
     "name": "stderr",
     "output_type": "stream",
     "text": [
      "/Users/jersonliao/qlib/qlib/utils/index_data.py:482: RuntimeWarning: Mean of empty slice\n",
      "  return np.nanmean(self.data)\n",
      "[70971:MainThread](2023-02-28 21:46:15,686) INFO - qlib.workflow - [record_temp.py:505] - Portfolio analysis record 'port_analysis_1day.pkl' has been saved as the artifact of the Experiment 1\n",
      "[70971:MainThread](2023-02-28 21:46:15,692) INFO - qlib.workflow - [record_temp.py:530] - Indicator analysis record 'indicator_analysis_1day.pkl' has been saved as the artifact of the Experiment 1\n",
      "[70971:MainThread](2023-02-28 21:46:15,699) INFO - qlib.timer - [log.py:128] - Time cost: 0.005s | waiting `async_log` Done\n",
      "[70971:MainThread](2023-02-28 21:46:15,702) INFO - qlib.workflow - [exp.py:258] - Experiment 5 starts running ...\n",
      "[70971:MainThread](2023-02-28 21:46:15,709) INFO - qlib.workflow - [recorder.py:341] - Recorder 5c65cf54236e4c35b23fe806183e7366 starts running under Experiment 5 ...\n"
     ]
    },
    {
     "name": "stdout",
     "output_type": "stream",
     "text": [
      "'The following are analysis results of benchmark return(1day).'\n",
      "                       risk\n",
      "mean              -0.000537\n",
      "std                0.012287\n",
      "annualized_return -0.127806\n",
      "information_ratio -0.674256\n",
      "max_drawdown      -0.473380\n",
      "'The following are analysis results of the excess return without cost(1day).'\n",
      "                       risk\n",
      "mean               0.000537\n",
      "std                0.012287\n",
      "annualized_return  0.127806\n",
      "information_ratio  0.674256\n",
      "max_drawdown      -0.175821\n",
      "'The following are analysis results of the excess return with cost(1day).'\n",
      "                       risk\n",
      "mean               0.000537\n",
      "std                0.012287\n",
      "annualized_return  0.127806\n",
      "information_ratio  0.674256\n",
      "max_drawdown      -0.175821\n",
      "'The following are analysis results of indicators(1day).'\n",
      "     value\n",
      "ffr    NaN\n",
      "pa     NaN\n",
      "pos    NaN\n",
      "Training until validation scores don't improve for 50 rounds\n",
      "[20]\ttrain's l2: 0.982366\tvalid's l2: 0.993613\n",
      "[40]\ttrain's l2: 0.974201\tvalid's l2: 0.992974\n",
      "[60]\ttrain's l2: 0.968354\tvalid's l2: 0.993069\n",
      "[80]\ttrain's l2: 0.963407\tvalid's l2: 0.993315\n"
     ]
    },
    {
     "name": "stderr",
     "output_type": "stream",
     "text": [
      "[70971:MainThread](2023-02-28 21:46:30,185) INFO - qlib.timer - [log.py:128] - Time cost: 0.077s | waiting `async_log` Done\n",
      "[70971:MainThread](2023-02-28 21:46:30,188) INFO - qlib.workflow - [exp.py:258] - Experiment 1 starts running ...\n",
      "[70971:MainThread](2023-02-28 21:46:30,195) INFO - qlib.workflow - [recorder.py:341] - Recorder 78f7551136db4d95b4ae02ae9c144277 starts running under Experiment 1 ...\n",
      "[70971:MainThread](2023-02-28 21:46:30,254) INFO - qlib.workflow - [record_temp.py:196] - Signal record 'pred.pkl' has been saved as the artifact of the Experiment 1\n",
      "[70971:MainThread](2023-02-28 21:46:30,261) INFO - qlib.backtest caller - [__init__.py:93] - Create new exchange\n"
     ]
    },
    {
     "name": "stdout",
     "output_type": "stream",
     "text": [
      "Early stopping, best iteration is:\n",
      "[45]\ttrain's l2: 0.972675\tvalid's l2: 0.99296\n",
      "'The following are prediction results of the LGBModel model.'\n",
      "Empty DataFrame\n",
      "Columns: [score]\n",
      "Index: []\n"
     ]
    },
    {
     "name": "stderr",
     "output_type": "stream",
     "text": [
      "[70971:MainThread](2023-02-28 21:46:37,508) WARNING - qlib.online operator - [exchange.py:219] - $close field data contains nan.\n",
      "[70971:MainThread](2023-02-28 21:46:37,509) WARNING - qlib.online operator - [exchange.py:219] - $close field data contains nan.\n",
      "[70971:MainThread](2023-02-28 21:46:38,898) WARNING - qlib.BaseExecutor - [executor.py:121] - `common_infra` is not set for <qlib.backtest.executor.SimulatorExecutor object at 0x2c887a970>\n"
     ]
    },
    {
     "data": {
      "application/vnd.jupyter.widget-view+json": {
       "model_id": "ad193b57855242d4a901405e8c869b47",
       "version_major": 2,
       "version_minor": 0
      },
      "text/plain": [
       "backtest loop:   0%|          | 0/485 [00:00<?, ?it/s]"
      ]
     },
     "metadata": {},
     "output_type": "display_data"
    },
    {
     "name": "stderr",
     "output_type": "stream",
     "text": [
      "/Users/jersonliao/qlib/qlib/utils/index_data.py:482: RuntimeWarning: Mean of empty slice\n",
      "  return np.nanmean(self.data)\n",
      "[70971:MainThread](2023-02-28 21:46:39,166) INFO - qlib.workflow - [record_temp.py:505] - Portfolio analysis record 'port_analysis_1day.pkl' has been saved as the artifact of the Experiment 1\n",
      "[70971:MainThread](2023-02-28 21:46:39,170) INFO - qlib.workflow - [record_temp.py:530] - Indicator analysis record 'indicator_analysis_1day.pkl' has been saved as the artifact of the Experiment 1\n",
      "[70971:MainThread](2023-02-28 21:46:39,177) INFO - qlib.timer - [log.py:128] - Time cost: 0.005s | waiting `async_log` Done\n"
     ]
    },
    {
     "name": "stdout",
     "output_type": "stream",
     "text": [
      "'The following are analysis results of benchmark return(1day).'\n",
      "                       risk\n",
      "mean              -0.000537\n",
      "std                0.012287\n",
      "annualized_return -0.127806\n",
      "information_ratio -0.674256\n",
      "max_drawdown      -0.473380\n",
      "'The following are analysis results of the excess return without cost(1day).'\n",
      "                       risk\n",
      "mean               0.000537\n",
      "std                0.012287\n",
      "annualized_return  0.127806\n",
      "information_ratio  0.674256\n",
      "max_drawdown      -0.175821\n",
      "'The following are analysis results of the excess return with cost(1day).'\n",
      "                       risk\n",
      "mean               0.000537\n",
      "std                0.012287\n",
      "annualized_return  0.127806\n",
      "information_ratio  0.674256\n",
      "max_drawdown      -0.175821\n",
      "'The following are analysis results of indicators(1day).'\n",
      "     value\n",
      "ffr    NaN\n",
      "pa     NaN\n",
      "pos    NaN\n"
     ]
    }
   ],
   "source": [
    "ana_recid_map = {}\n",
    "\n",
    "for ref_days, hold_days in [(2, 1), (10, 30)]:\n",
    "    name = f\"ref{ref_days}_h{hold_days}\"\n",
    "    model, train_recid = init_model_and_train(dataset, f\"LABEL{ref_days}\", \"train\", \"lgb\")\n",
    "    ana_recid = port_analysis(\"backtest_analysis\", \"SH000300\", dataset, model, 50, 5, hold_days, \"2021-01-01\",\n",
    "                              \"2022-12-31\")\n",
    "    ana_recid_map[name] = ana_recid\n"
   ]
  },
  {
   "cell_type": "markdown",
   "metadata": {},
   "source": [
    "# analyze graphs"
   ]
  },
  {
   "cell_type": "code",
   "execution_count": 8,
   "metadata": {},
   "outputs": [],
   "source": [
    "from qlib.contrib.report import analysis_model, analysis_position\n",
    "from qlib.data import D\n",
    "\n",
    "report_df_map = {}\n",
    "for name,ana_recid in ana_recid_map.items():\n",
    "    recorder = R.get_recorder(recorder_id=ana_recid, experiment_name=\"backtest_analysis\")\n",
    "    report_df = recorder.load_object(\"portfolio_analysis/report_normal_1day.pkl\")\n",
    "    report_df_map[name]=report_df"
   ]
  },
  {
   "cell_type": "code",
   "execution_count": 11,
   "metadata": {},
   "outputs": [
    {
     "data": {
      "text/plain": [
       "dict_keys(['ref2_h1', 'ref10_h30'])"
      ]
     },
     "execution_count": 11,
     "metadata": {},
     "output_type": "execute_result"
    }
   ],
   "source": [
    "report_df_map.keys()"
   ]
  },
  {
   "cell_type": "markdown",
   "metadata": {},
   "source": [
    "## analysis position"
   ]
  },
  {
   "cell_type": "markdown",
   "metadata": {},
   "source": [
    "### report"
   ]
  },
  {
   "cell_type": "code",
   "execution_count": null,
   "metadata": {},
   "outputs": [],
   "source": [
    "analysis_position.report_graph(report_df_map)"
   ]
  },
  {
   "cell_type": "code",
   "execution_count": 1,
   "metadata": {},
   "outputs": [
    {
     "name": "stderr",
     "output_type": "stream",
     "text": [
      "[86219:MainThread](2023-02-28 22:54:20,861) INFO - qlib.Initialization - [config.py:416] - default_conf: client.\n",
      "[86219:MainThread](2023-02-28 22:54:20,863) INFO - qlib.Initialization - [__init__.py:74] - qlib successfully initialized based on client settings.\n",
      "[86219:MainThread](2023-02-28 22:54:20,863) INFO - qlib.Initialization - [__init__.py:76] - data_path={'__DEFAULT_FREQ': PosixPath('/Users/jersonliao/.qlib/qlib_data/cn_data')}\n"
     ]
    }
   ],
   "source": [
    "import qlib\n",
    "from qlib.constant import REG_CN\n",
    "from qlib.utils import init_instance_by_config, flatten_dict\n",
    "from qlib.workflow import R\n",
    "from qlib.workflow.record_temp import SignalRecord, PortAnaRecord, SigAnaRecord\n",
    "from qlib.tests.data import GetData\n",
    "from qlib.tests.config import CSI300_BENCH, CSI300_GBDT_TASK\n",
    "from qlib.contrib.report import analysis_model, analysis_position\n",
    "\n",
    "provider_uri = \"~/.qlib/qlib_data/cn_data\"  # target_dir\n",
    "qlib.init(provider_uri=provider_uri, region=REG_CN)\n",
    "\n",
    "rid_list = [\"efc65143bb6b48c5906b2da02ff93ac2\",\"ea48476370b944af9b4e274644033252\"]\n",
    "\n",
    "report_df_map = {}\n",
    "for idx, rid in enumerate(rid_list):\n",
    "    recorder = R.get_recorder(recorder_id=rid, experiment_name=\"experiment\")\n",
    "    report_df = recorder.load_object(\"portfolio_analysis/report_normal_1day.pkl\")\n",
    "    report_df_map[f\"{idx}\"] = report_df\n"
   ]
  },
  {
   "cell_type": "code",
   "execution_count": null,
   "metadata": {},
   "outputs": [],
   "source": [
    "analysis_position.report_graph(report_df_map)"
   ]
  }
 ],
 "metadata": {
  "kernelspec": {
   "display_name": "py38",
   "language": "python",
   "name": "python3"
  },
  "language_info": {
   "codemirror_mode": {
    "name": "ipython",
    "version": 3
   },
   "file_extension": ".py",
   "mimetype": "text/x-python",
   "name": "python",
   "nbconvert_exporter": "python",
   "pygments_lexer": "ipython3",
   "version": "3.8.12"
  },
  "toc": {
   "base_numbering": 1,
   "nav_menu": {},
   "number_sections": true,
   "sideBar": true,
   "skip_h1_title": false,
   "title_cell": "Table of Contents",
   "title_sidebar": "Contents",
   "toc_cell": false,
   "toc_position": {},
   "toc_section_display": true,
   "toc_window_display": false
  },
  "vscode": {
   "interpreter": {
    "hash": "8c712361aca0e0dc94dba1f1de89c96fb82cf5e5a8e861878c7cae66c0bd5fe6"
   }
  }
 },
 "nbformat": 4,
 "nbformat_minor": 4
}
